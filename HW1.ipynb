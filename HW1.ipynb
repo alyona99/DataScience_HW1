{
 "cells": [
  {
   "cell_type": "markdown",
   "id": "c5e5b56c",
   "metadata": {},
   "source": [
    "# Прогнозирование кредита на основе поведения клиента"
   ]
  },
  {
   "cell_type": "markdown",
   "id": "9db77c32",
   "metadata": {},
   "source": [
    "### Датасет представляет собой описание портретов потребителей, которые обращались в компанию за кредитом. Задача состоит в том, чтобы создать портрет потенциальных неплательщиков кредита, чтобы в дальнейшем уменьшить риски для компании при выдаче новых кредитов."
   ]
  },
  {
   "cell_type": "markdown",
   "id": "59004740",
   "metadata": {},
   "source": [
    "#### Переменные: \n",
    "##### income - годовой доход клиента в рупиях\n",
    "##### age - возраст клиента\n",
    "##### experience - рабочий стаж\n",
    "##### profession - профессия\n",
    "##### married - семейный статус (состоит в браке или нет)\n",
    "##### house_ownership - владение или аренда имущества\n",
    "##### car_ownership - наличие автомобиля\n",
    "##### risk_flag - неуплата кредита\n",
    "##### current job years - стаж работы на текущем месте\n",
    "##### current house years - кол-во лет в настоящем месте проживания\n",
    "##### city - город проживания\n",
    "##### state - штат проживания"
   ]
  },
  {
   "cell_type": "code",
   "execution_count": 1,
   "id": "eb39ae3b",
   "metadata": {},
   "outputs": [],
   "source": [
    "import numpy as np\n",
    "import pandas as pd"
   ]
  },
  {
   "cell_type": "code",
   "execution_count": 2,
   "id": "931c63c6",
   "metadata": {},
   "outputs": [],
   "source": [
    "import missingno as msno\n",
    "import matplotlib.pyplot as plt\n",
    "%matplotlib inline\n",
    "import seaborn as sns"
   ]
  },
  {
   "cell_type": "code",
   "execution_count": 3,
   "id": "ed65a833",
   "metadata": {},
   "outputs": [
    {
     "data": {
      "text/html": [
       "<div>\n",
       "<style scoped>\n",
       "    .dataframe tbody tr th:only-of-type {\n",
       "        vertical-align: middle;\n",
       "    }\n",
       "\n",
       "    .dataframe tbody tr th {\n",
       "        vertical-align: top;\n",
       "    }\n",
       "\n",
       "    .dataframe thead th {\n",
       "        text-align: right;\n",
       "    }\n",
       "</style>\n",
       "<table border=\"1\" class=\"dataframe\">\n",
       "  <thead>\n",
       "    <tr style=\"text-align: right;\">\n",
       "      <th></th>\n",
       "      <th>Id</th>\n",
       "      <th>Income</th>\n",
       "      <th>Age</th>\n",
       "      <th>Experience</th>\n",
       "      <th>Married/Single</th>\n",
       "      <th>House_Ownership</th>\n",
       "      <th>Car_Ownership</th>\n",
       "      <th>Profession</th>\n",
       "      <th>CITY</th>\n",
       "      <th>STATE</th>\n",
       "      <th>CURRENT_JOB_YRS</th>\n",
       "      <th>CURRENT_HOUSE_YRS</th>\n",
       "      <th>Risk_Flag</th>\n",
       "    </tr>\n",
       "  </thead>\n",
       "  <tbody>\n",
       "    <tr>\n",
       "      <th>0</th>\n",
       "      <td>1</td>\n",
       "      <td>1303834</td>\n",
       "      <td>23</td>\n",
       "      <td>3</td>\n",
       "      <td>single</td>\n",
       "      <td>rented</td>\n",
       "      <td>no</td>\n",
       "      <td>Mechanical_engineer</td>\n",
       "      <td>Rewa</td>\n",
       "      <td>Madhya_Pradesh</td>\n",
       "      <td>3</td>\n",
       "      <td>13</td>\n",
       "      <td>0</td>\n",
       "    </tr>\n",
       "    <tr>\n",
       "      <th>1</th>\n",
       "      <td>2</td>\n",
       "      <td>7574516</td>\n",
       "      <td>40</td>\n",
       "      <td>10</td>\n",
       "      <td>single</td>\n",
       "      <td>rented</td>\n",
       "      <td>no</td>\n",
       "      <td>Software_Developer</td>\n",
       "      <td>Parbhani</td>\n",
       "      <td>Maharashtra</td>\n",
       "      <td>9</td>\n",
       "      <td>13</td>\n",
       "      <td>0</td>\n",
       "    </tr>\n",
       "    <tr>\n",
       "      <th>2</th>\n",
       "      <td>3</td>\n",
       "      <td>3991815</td>\n",
       "      <td>66</td>\n",
       "      <td>4</td>\n",
       "      <td>married</td>\n",
       "      <td>rented</td>\n",
       "      <td>no</td>\n",
       "      <td>Technical_writer</td>\n",
       "      <td>Alappuzha</td>\n",
       "      <td>Kerala</td>\n",
       "      <td>4</td>\n",
       "      <td>10</td>\n",
       "      <td>0</td>\n",
       "    </tr>\n",
       "    <tr>\n",
       "      <th>3</th>\n",
       "      <td>4</td>\n",
       "      <td>6256451</td>\n",
       "      <td>41</td>\n",
       "      <td>2</td>\n",
       "      <td>single</td>\n",
       "      <td>rented</td>\n",
       "      <td>yes</td>\n",
       "      <td>Software_Developer</td>\n",
       "      <td>Bhubaneswar</td>\n",
       "      <td>Odisha</td>\n",
       "      <td>2</td>\n",
       "      <td>12</td>\n",
       "      <td>1</td>\n",
       "    </tr>\n",
       "    <tr>\n",
       "      <th>4</th>\n",
       "      <td>5</td>\n",
       "      <td>5768871</td>\n",
       "      <td>47</td>\n",
       "      <td>11</td>\n",
       "      <td>single</td>\n",
       "      <td>rented</td>\n",
       "      <td>no</td>\n",
       "      <td>Civil_servant</td>\n",
       "      <td>Tiruchirappalli[10]</td>\n",
       "      <td>Tamil_Nadu</td>\n",
       "      <td>3</td>\n",
       "      <td>14</td>\n",
       "      <td>1</td>\n",
       "    </tr>\n",
       "    <tr>\n",
       "      <th>...</th>\n",
       "      <td>...</td>\n",
       "      <td>...</td>\n",
       "      <td>...</td>\n",
       "      <td>...</td>\n",
       "      <td>...</td>\n",
       "      <td>...</td>\n",
       "      <td>...</td>\n",
       "      <td>...</td>\n",
       "      <td>...</td>\n",
       "      <td>...</td>\n",
       "      <td>...</td>\n",
       "      <td>...</td>\n",
       "      <td>...</td>\n",
       "    </tr>\n",
       "    <tr>\n",
       "      <th>251995</th>\n",
       "      <td>251996</td>\n",
       "      <td>8154883</td>\n",
       "      <td>43</td>\n",
       "      <td>13</td>\n",
       "      <td>single</td>\n",
       "      <td>rented</td>\n",
       "      <td>no</td>\n",
       "      <td>Surgeon</td>\n",
       "      <td>Kolkata</td>\n",
       "      <td>West_Bengal</td>\n",
       "      <td>6</td>\n",
       "      <td>11</td>\n",
       "      <td>0</td>\n",
       "    </tr>\n",
       "    <tr>\n",
       "      <th>251996</th>\n",
       "      <td>251997</td>\n",
       "      <td>2843572</td>\n",
       "      <td>26</td>\n",
       "      <td>10</td>\n",
       "      <td>single</td>\n",
       "      <td>rented</td>\n",
       "      <td>no</td>\n",
       "      <td>Army_officer</td>\n",
       "      <td>Rewa</td>\n",
       "      <td>Madhya_Pradesh</td>\n",
       "      <td>6</td>\n",
       "      <td>11</td>\n",
       "      <td>0</td>\n",
       "    </tr>\n",
       "    <tr>\n",
       "      <th>251997</th>\n",
       "      <td>251998</td>\n",
       "      <td>4522448</td>\n",
       "      <td>46</td>\n",
       "      <td>7</td>\n",
       "      <td>single</td>\n",
       "      <td>rented</td>\n",
       "      <td>no</td>\n",
       "      <td>Design_Engineer</td>\n",
       "      <td>Kalyan-Dombivli</td>\n",
       "      <td>Maharashtra</td>\n",
       "      <td>7</td>\n",
       "      <td>12</td>\n",
       "      <td>0</td>\n",
       "    </tr>\n",
       "    <tr>\n",
       "      <th>251998</th>\n",
       "      <td>251999</td>\n",
       "      <td>6507128</td>\n",
       "      <td>45</td>\n",
       "      <td>0</td>\n",
       "      <td>single</td>\n",
       "      <td>rented</td>\n",
       "      <td>no</td>\n",
       "      <td>Graphic_Designer</td>\n",
       "      <td>Pondicherry</td>\n",
       "      <td>Puducherry</td>\n",
       "      <td>0</td>\n",
       "      <td>10</td>\n",
       "      <td>0</td>\n",
       "    </tr>\n",
       "    <tr>\n",
       "      <th>251999</th>\n",
       "      <td>252000</td>\n",
       "      <td>9070230</td>\n",
       "      <td>70</td>\n",
       "      <td>17</td>\n",
       "      <td>single</td>\n",
       "      <td>rented</td>\n",
       "      <td>no</td>\n",
       "      <td>Statistician</td>\n",
       "      <td>Avadi</td>\n",
       "      <td>Tamil_Nadu</td>\n",
       "      <td>7</td>\n",
       "      <td>11</td>\n",
       "      <td>0</td>\n",
       "    </tr>\n",
       "  </tbody>\n",
       "</table>\n",
       "<p>252000 rows × 13 columns</p>\n",
       "</div>"
      ],
      "text/plain": [
       "            Id   Income  Age  Experience Married/Single House_Ownership  \\\n",
       "0            1  1303834   23           3         single          rented   \n",
       "1            2  7574516   40          10         single          rented   \n",
       "2            3  3991815   66           4        married          rented   \n",
       "3            4  6256451   41           2         single          rented   \n",
       "4            5  5768871   47          11         single          rented   \n",
       "...        ...      ...  ...         ...            ...             ...   \n",
       "251995  251996  8154883   43          13         single          rented   \n",
       "251996  251997  2843572   26          10         single          rented   \n",
       "251997  251998  4522448   46           7         single          rented   \n",
       "251998  251999  6507128   45           0         single          rented   \n",
       "251999  252000  9070230   70          17         single          rented   \n",
       "\n",
       "       Car_Ownership           Profession                 CITY  \\\n",
       "0                 no  Mechanical_engineer                 Rewa   \n",
       "1                 no   Software_Developer             Parbhani   \n",
       "2                 no     Technical_writer            Alappuzha   \n",
       "3                yes   Software_Developer          Bhubaneswar   \n",
       "4                 no        Civil_servant  Tiruchirappalli[10]   \n",
       "...              ...                  ...                  ...   \n",
       "251995            no              Surgeon              Kolkata   \n",
       "251996            no         Army_officer                 Rewa   \n",
       "251997            no      Design_Engineer      Kalyan-Dombivli   \n",
       "251998            no     Graphic_Designer          Pondicherry   \n",
       "251999            no         Statistician                Avadi   \n",
       "\n",
       "                 STATE  CURRENT_JOB_YRS  CURRENT_HOUSE_YRS  Risk_Flag  \n",
       "0       Madhya_Pradesh                3                 13          0  \n",
       "1          Maharashtra                9                 13          0  \n",
       "2               Kerala                4                 10          0  \n",
       "3               Odisha                2                 12          1  \n",
       "4           Tamil_Nadu                3                 14          1  \n",
       "...                ...              ...                ...        ...  \n",
       "251995     West_Bengal                6                 11          0  \n",
       "251996  Madhya_Pradesh                6                 11          0  \n",
       "251997     Maharashtra                7                 12          0  \n",
       "251998      Puducherry                0                 10          0  \n",
       "251999      Tamil_Nadu                7                 11          0  \n",
       "\n",
       "[252000 rows x 13 columns]"
      ]
     },
     "execution_count": 3,
     "metadata": {},
     "output_type": "execute_result"
    }
   ],
   "source": [
    "loan = pd.read_csv('Training Data.csv')\n",
    "loan"
   ]
  },
  {
   "cell_type": "code",
   "execution_count": 4,
   "id": "53a2efdd",
   "metadata": {},
   "outputs": [
    {
     "name": "stdout",
     "output_type": "stream",
     "text": [
      "<class 'pandas.core.frame.DataFrame'>\n",
      "RangeIndex: 252000 entries, 0 to 251999\n",
      "Data columns (total 13 columns):\n",
      " #   Column             Non-Null Count   Dtype \n",
      "---  ------             --------------   ----- \n",
      " 0   Id                 252000 non-null  int64 \n",
      " 1   Income             252000 non-null  int64 \n",
      " 2   Age                252000 non-null  int64 \n",
      " 3   Experience         252000 non-null  int64 \n",
      " 4   Married/Single     252000 non-null  object\n",
      " 5   House_Ownership    252000 non-null  object\n",
      " 6   Car_Ownership      252000 non-null  object\n",
      " 7   Profession         252000 non-null  object\n",
      " 8   CITY               252000 non-null  object\n",
      " 9   STATE              252000 non-null  object\n",
      " 10  CURRENT_JOB_YRS    252000 non-null  int64 \n",
      " 11  CURRENT_HOUSE_YRS  252000 non-null  int64 \n",
      " 12  Risk_Flag          252000 non-null  int64 \n",
      "dtypes: int64(7), object(6)\n",
      "memory usage: 25.0+ MB\n"
     ]
    }
   ],
   "source": [
    "loan.info()"
   ]
  },
  {
   "cell_type": "markdown",
   "id": "b04c6bcc",
   "metadata": {},
   "source": [
    "### Итак, в данном датасете 252000 строк и 13 переменных, 7 из которых количественные, 6 - качественные. Пропусков нет."
   ]
  },
  {
   "cell_type": "markdown",
   "id": "a72d7ec7",
   "metadata": {},
   "source": [
    "### Для выявления связи между количественными переменными можно было бы воспользоваться корреляционным анализом. Однако, переменные Income, Age, Experience, Current_Job_Yrs, Current_House_Yrs измеренны по шкале отношений, а переменная Risk_Flag является биноминальной. А нам собственно и нужно увидеть, как на Risk_Flag влияют остальные переменные. Однако, корреляционный анализ в данном не даст особого результата. См. таблицу ниже. "
   ]
  },
  {
   "cell_type": "code",
   "execution_count": 5,
   "id": "c1c7e3d9",
   "metadata": {},
   "outputs": [
    {
     "data": {
      "text/html": [
       "<div>\n",
       "<style scoped>\n",
       "    .dataframe tbody tr th:only-of-type {\n",
       "        vertical-align: middle;\n",
       "    }\n",
       "\n",
       "    .dataframe tbody tr th {\n",
       "        vertical-align: top;\n",
       "    }\n",
       "\n",
       "    .dataframe thead th {\n",
       "        text-align: right;\n",
       "    }\n",
       "</style>\n",
       "<table border=\"1\" class=\"dataframe\">\n",
       "  <thead>\n",
       "    <tr style=\"text-align: right;\">\n",
       "      <th></th>\n",
       "      <th>Id</th>\n",
       "      <th>Income</th>\n",
       "      <th>Age</th>\n",
       "      <th>Experience</th>\n",
       "      <th>CURRENT_JOB_YRS</th>\n",
       "      <th>CURRENT_HOUSE_YRS</th>\n",
       "      <th>Risk_Flag</th>\n",
       "    </tr>\n",
       "  </thead>\n",
       "  <tbody>\n",
       "    <tr>\n",
       "      <th>Id</th>\n",
       "      <td>1.000000</td>\n",
       "      <td>-0.001324</td>\n",
       "      <td>-0.001816</td>\n",
       "      <td>-0.005810</td>\n",
       "      <td>-0.003250</td>\n",
       "      <td>0.001972</td>\n",
       "      <td>0.032153</td>\n",
       "    </tr>\n",
       "    <tr>\n",
       "      <th>Income</th>\n",
       "      <td>-0.001324</td>\n",
       "      <td>1.000000</td>\n",
       "      <td>-0.000652</td>\n",
       "      <td>0.006422</td>\n",
       "      <td>0.007045</td>\n",
       "      <td>-0.002397</td>\n",
       "      <td>-0.003091</td>\n",
       "    </tr>\n",
       "    <tr>\n",
       "      <th>Age</th>\n",
       "      <td>-0.001816</td>\n",
       "      <td>-0.000652</td>\n",
       "      <td>1.000000</td>\n",
       "      <td>-0.001118</td>\n",
       "      <td>0.002154</td>\n",
       "      <td>-0.020134</td>\n",
       "      <td>-0.021809</td>\n",
       "    </tr>\n",
       "    <tr>\n",
       "      <th>Experience</th>\n",
       "      <td>-0.005810</td>\n",
       "      <td>0.006422</td>\n",
       "      <td>-0.001118</td>\n",
       "      <td>1.000000</td>\n",
       "      <td>0.646098</td>\n",
       "      <td>0.019309</td>\n",
       "      <td>-0.034523</td>\n",
       "    </tr>\n",
       "    <tr>\n",
       "      <th>CURRENT_JOB_YRS</th>\n",
       "      <td>-0.003250</td>\n",
       "      <td>0.007045</td>\n",
       "      <td>0.002154</td>\n",
       "      <td>0.646098</td>\n",
       "      <td>1.000000</td>\n",
       "      <td>0.005372</td>\n",
       "      <td>-0.016942</td>\n",
       "    </tr>\n",
       "    <tr>\n",
       "      <th>CURRENT_HOUSE_YRS</th>\n",
       "      <td>0.001972</td>\n",
       "      <td>-0.002397</td>\n",
       "      <td>-0.020134</td>\n",
       "      <td>0.019309</td>\n",
       "      <td>0.005372</td>\n",
       "      <td>1.000000</td>\n",
       "      <td>-0.004375</td>\n",
       "    </tr>\n",
       "    <tr>\n",
       "      <th>Risk_Flag</th>\n",
       "      <td>0.032153</td>\n",
       "      <td>-0.003091</td>\n",
       "      <td>-0.021809</td>\n",
       "      <td>-0.034523</td>\n",
       "      <td>-0.016942</td>\n",
       "      <td>-0.004375</td>\n",
       "      <td>1.000000</td>\n",
       "    </tr>\n",
       "  </tbody>\n",
       "</table>\n",
       "</div>"
      ],
      "text/plain": [
       "                         Id    Income       Age  Experience  CURRENT_JOB_YRS  \\\n",
       "Id                 1.000000 -0.001324 -0.001816   -0.005810        -0.003250   \n",
       "Income            -0.001324  1.000000 -0.000652    0.006422         0.007045   \n",
       "Age               -0.001816 -0.000652  1.000000   -0.001118         0.002154   \n",
       "Experience        -0.005810  0.006422 -0.001118    1.000000         0.646098   \n",
       "CURRENT_JOB_YRS   -0.003250  0.007045  0.002154    0.646098         1.000000   \n",
       "CURRENT_HOUSE_YRS  0.001972 -0.002397 -0.020134    0.019309         0.005372   \n",
       "Risk_Flag          0.032153 -0.003091 -0.021809   -0.034523        -0.016942   \n",
       "\n",
       "                   CURRENT_HOUSE_YRS  Risk_Flag  \n",
       "Id                          0.001972   0.032153  \n",
       "Income                     -0.002397  -0.003091  \n",
       "Age                        -0.020134  -0.021809  \n",
       "Experience                  0.019309  -0.034523  \n",
       "CURRENT_JOB_YRS             0.005372  -0.016942  \n",
       "CURRENT_HOUSE_YRS           1.000000  -0.004375  \n",
       "Risk_Flag                  -0.004375   1.000000  "
      ]
     },
     "execution_count": 5,
     "metadata": {},
     "output_type": "execute_result"
    }
   ],
   "source": [
    "loan.corr()"
   ]
  },
  {
   "cell_type": "markdown",
   "id": "31c3d6f9",
   "metadata": {},
   "source": [
    "#### Мы видим, что связь между Risk_Flag и остальными признаками практически отсутствует, хотя по-мнению автора, очевидно, что связь между доходом и неуплатой кредита существует."
   ]
  },
  {
   "cell_type": "markdown",
   "id": "ff7099b8",
   "metadata": {},
   "source": [
    "### Попробуем проанализировать данные по-другому"
   ]
  },
  {
   "cell_type": "markdown",
   "id": "51ac5e17",
   "metadata": {},
   "source": [
    "### Найдём число клиентов, не выплативших кредит и посмотрим, какую долю оно составляет от общего числа клиентов.\n",
    "### Для этого отфильтруем датасет по колонке Risk_Flag"
   ]
  },
  {
   "cell_type": "code",
   "execution_count": 6,
   "id": "0df37e3a",
   "metadata": {
    "scrolled": true
   },
   "outputs": [
    {
     "data": {
      "text/plain": [
       "(30996, 13)"
      ]
     },
     "execution_count": 6,
     "metadata": {},
     "output_type": "execute_result"
    }
   ],
   "source": [
    "loan[loan['Risk_Flag'] == 1].shape"
   ]
  },
  {
   "cell_type": "markdown",
   "id": "605c59be",
   "metadata": {},
   "source": [
    "### Из 252 тысяч клиентов неплательщиками кредитов являются 30996 - 12,3%.\n",
    "### В дальнейшем будем анализировать только данные неплательщиков и попробуем составить их портрет\n",
    "\n",
    "#### Присвоим отфильтрованному датасету новое имя"
   ]
  },
  {
   "cell_type": "code",
   "execution_count": 7,
   "id": "2bc67886",
   "metadata": {},
   "outputs": [
    {
     "data": {
      "text/html": [
       "<div>\n",
       "<style scoped>\n",
       "    .dataframe tbody tr th:only-of-type {\n",
       "        vertical-align: middle;\n",
       "    }\n",
       "\n",
       "    .dataframe tbody tr th {\n",
       "        vertical-align: top;\n",
       "    }\n",
       "\n",
       "    .dataframe thead th {\n",
       "        text-align: right;\n",
       "    }\n",
       "</style>\n",
       "<table border=\"1\" class=\"dataframe\">\n",
       "  <thead>\n",
       "    <tr style=\"text-align: right;\">\n",
       "      <th></th>\n",
       "      <th>Id</th>\n",
       "      <th>Income</th>\n",
       "      <th>Age</th>\n",
       "      <th>Experience</th>\n",
       "      <th>Married/Single</th>\n",
       "      <th>House_Ownership</th>\n",
       "      <th>Car_Ownership</th>\n",
       "      <th>Profession</th>\n",
       "      <th>CITY</th>\n",
       "      <th>STATE</th>\n",
       "      <th>CURRENT_JOB_YRS</th>\n",
       "      <th>CURRENT_HOUSE_YRS</th>\n",
       "      <th>Risk_Flag</th>\n",
       "    </tr>\n",
       "  </thead>\n",
       "  <tbody>\n",
       "    <tr>\n",
       "      <th>3</th>\n",
       "      <td>4</td>\n",
       "      <td>6256451</td>\n",
       "      <td>41</td>\n",
       "      <td>2</td>\n",
       "      <td>single</td>\n",
       "      <td>rented</td>\n",
       "      <td>yes</td>\n",
       "      <td>Software_Developer</td>\n",
       "      <td>Bhubaneswar</td>\n",
       "      <td>Odisha</td>\n",
       "      <td>2</td>\n",
       "      <td>12</td>\n",
       "      <td>1</td>\n",
       "    </tr>\n",
       "    <tr>\n",
       "      <th>4</th>\n",
       "      <td>5</td>\n",
       "      <td>5768871</td>\n",
       "      <td>47</td>\n",
       "      <td>11</td>\n",
       "      <td>single</td>\n",
       "      <td>rented</td>\n",
       "      <td>no</td>\n",
       "      <td>Civil_servant</td>\n",
       "      <td>Tiruchirappalli[10]</td>\n",
       "      <td>Tamil_Nadu</td>\n",
       "      <td>3</td>\n",
       "      <td>14</td>\n",
       "      <td>1</td>\n",
       "    </tr>\n",
       "    <tr>\n",
       "      <th>14</th>\n",
       "      <td>15</td>\n",
       "      <td>9420838</td>\n",
       "      <td>48</td>\n",
       "      <td>6</td>\n",
       "      <td>single</td>\n",
       "      <td>rented</td>\n",
       "      <td>no</td>\n",
       "      <td>Technical_writer</td>\n",
       "      <td>Madurai</td>\n",
       "      <td>Tamil_Nadu</td>\n",
       "      <td>6</td>\n",
       "      <td>10</td>\n",
       "      <td>1</td>\n",
       "    </tr>\n",
       "    <tr>\n",
       "      <th>17</th>\n",
       "      <td>18</td>\n",
       "      <td>3666346</td>\n",
       "      <td>56</td>\n",
       "      <td>12</td>\n",
       "      <td>single</td>\n",
       "      <td>rented</td>\n",
       "      <td>no</td>\n",
       "      <td>Politician</td>\n",
       "      <td>Bhusawal</td>\n",
       "      <td>Maharashtra</td>\n",
       "      <td>12</td>\n",
       "      <td>11</td>\n",
       "      <td>1</td>\n",
       "    </tr>\n",
       "    <tr>\n",
       "      <th>28</th>\n",
       "      <td>29</td>\n",
       "      <td>8832725</td>\n",
       "      <td>64</td>\n",
       "      <td>5</td>\n",
       "      <td>single</td>\n",
       "      <td>rented</td>\n",
       "      <td>no</td>\n",
       "      <td>Biomedical_Engineer</td>\n",
       "      <td>Pondicherry</td>\n",
       "      <td>Puducherry</td>\n",
       "      <td>5</td>\n",
       "      <td>11</td>\n",
       "      <td>1</td>\n",
       "    </tr>\n",
       "    <tr>\n",
       "      <th>...</th>\n",
       "      <td>...</td>\n",
       "      <td>...</td>\n",
       "      <td>...</td>\n",
       "      <td>...</td>\n",
       "      <td>...</td>\n",
       "      <td>...</td>\n",
       "      <td>...</td>\n",
       "      <td>...</td>\n",
       "      <td>...</td>\n",
       "      <td>...</td>\n",
       "      <td>...</td>\n",
       "      <td>...</td>\n",
       "      <td>...</td>\n",
       "    </tr>\n",
       "    <tr>\n",
       "      <th>251973</th>\n",
       "      <td>251974</td>\n",
       "      <td>1244622</td>\n",
       "      <td>35</td>\n",
       "      <td>15</td>\n",
       "      <td>single</td>\n",
       "      <td>rented</td>\n",
       "      <td>no</td>\n",
       "      <td>Psychologist</td>\n",
       "      <td>Alwar</td>\n",
       "      <td>Rajasthan</td>\n",
       "      <td>3</td>\n",
       "      <td>11</td>\n",
       "      <td>1</td>\n",
       "    </tr>\n",
       "    <tr>\n",
       "      <th>251977</th>\n",
       "      <td>251978</td>\n",
       "      <td>1330613</td>\n",
       "      <td>63</td>\n",
       "      <td>19</td>\n",
       "      <td>single</td>\n",
       "      <td>rented</td>\n",
       "      <td>no</td>\n",
       "      <td>Engineer</td>\n",
       "      <td>Purnia[26]</td>\n",
       "      <td>Bihar</td>\n",
       "      <td>13</td>\n",
       "      <td>12</td>\n",
       "      <td>1</td>\n",
       "    </tr>\n",
       "    <tr>\n",
       "      <th>251981</th>\n",
       "      <td>251982</td>\n",
       "      <td>1796713</td>\n",
       "      <td>47</td>\n",
       "      <td>2</td>\n",
       "      <td>single</td>\n",
       "      <td>rented</td>\n",
       "      <td>no</td>\n",
       "      <td>Technician</td>\n",
       "      <td>Kolhapur</td>\n",
       "      <td>Maharashtra</td>\n",
       "      <td>2</td>\n",
       "      <td>12</td>\n",
       "      <td>1</td>\n",
       "    </tr>\n",
       "    <tr>\n",
       "      <th>251982</th>\n",
       "      <td>251983</td>\n",
       "      <td>3182290</td>\n",
       "      <td>52</td>\n",
       "      <td>2</td>\n",
       "      <td>single</td>\n",
       "      <td>rented</td>\n",
       "      <td>no</td>\n",
       "      <td>Drafter</td>\n",
       "      <td>Naihati</td>\n",
       "      <td>West_Bengal</td>\n",
       "      <td>2</td>\n",
       "      <td>10</td>\n",
       "      <td>1</td>\n",
       "    </tr>\n",
       "    <tr>\n",
       "      <th>251993</th>\n",
       "      <td>251994</td>\n",
       "      <td>8141027</td>\n",
       "      <td>60</td>\n",
       "      <td>10</td>\n",
       "      <td>single</td>\n",
       "      <td>rented</td>\n",
       "      <td>no</td>\n",
       "      <td>Secretary</td>\n",
       "      <td>Bhusawal</td>\n",
       "      <td>Maharashtra</td>\n",
       "      <td>9</td>\n",
       "      <td>13</td>\n",
       "      <td>1</td>\n",
       "    </tr>\n",
       "  </tbody>\n",
       "</table>\n",
       "<p>30996 rows × 13 columns</p>\n",
       "</div>"
      ],
      "text/plain": [
       "            Id   Income  Age  Experience Married/Single House_Ownership  \\\n",
       "3            4  6256451   41           2         single          rented   \n",
       "4            5  5768871   47          11         single          rented   \n",
       "14          15  9420838   48           6         single          rented   \n",
       "17          18  3666346   56          12         single          rented   \n",
       "28          29  8832725   64           5         single          rented   \n",
       "...        ...      ...  ...         ...            ...             ...   \n",
       "251973  251974  1244622   35          15         single          rented   \n",
       "251977  251978  1330613   63          19         single          rented   \n",
       "251981  251982  1796713   47           2         single          rented   \n",
       "251982  251983  3182290   52           2         single          rented   \n",
       "251993  251994  8141027   60          10         single          rented   \n",
       "\n",
       "       Car_Ownership           Profession                 CITY        STATE  \\\n",
       "3                yes   Software_Developer          Bhubaneswar       Odisha   \n",
       "4                 no        Civil_servant  Tiruchirappalli[10]   Tamil_Nadu   \n",
       "14                no     Technical_writer              Madurai   Tamil_Nadu   \n",
       "17                no           Politician             Bhusawal  Maharashtra   \n",
       "28                no  Biomedical_Engineer          Pondicherry   Puducherry   \n",
       "...              ...                  ...                  ...          ...   \n",
       "251973            no         Psychologist                Alwar    Rajasthan   \n",
       "251977            no             Engineer           Purnia[26]        Bihar   \n",
       "251981            no           Technician             Kolhapur  Maharashtra   \n",
       "251982            no              Drafter              Naihati  West_Bengal   \n",
       "251993            no            Secretary             Bhusawal  Maharashtra   \n",
       "\n",
       "        CURRENT_JOB_YRS  CURRENT_HOUSE_YRS  Risk_Flag  \n",
       "3                     2                 12          1  \n",
       "4                     3                 14          1  \n",
       "14                    6                 10          1  \n",
       "17                   12                 11          1  \n",
       "28                    5                 11          1  \n",
       "...                 ...                ...        ...  \n",
       "251973                3                 11          1  \n",
       "251977               13                 12          1  \n",
       "251981                2                 12          1  \n",
       "251982                2                 10          1  \n",
       "251993                9                 13          1  \n",
       "\n",
       "[30996 rows x 13 columns]"
      ]
     },
     "execution_count": 7,
     "metadata": {},
     "output_type": "execute_result"
    }
   ],
   "source": [
    "defaulters = loan[loan['Risk_Flag'] == 1]\n",
    "defaulters"
   ]
  },
  {
   "cell_type": "markdown",
   "id": "244539c6",
   "metadata": {},
   "source": [
    "### Проанализируем описательные статистики по колонкам с количественными данными (кроме ID, Risk_Flag)"
   ]
  },
  {
   "cell_type": "code",
   "execution_count": 8,
   "id": "3959d7b2",
   "metadata": {
    "scrolled": false
   },
   "outputs": [
    {
     "data": {
      "text/html": [
       "<div>\n",
       "<style scoped>\n",
       "    .dataframe tbody tr th:only-of-type {\n",
       "        vertical-align: middle;\n",
       "    }\n",
       "\n",
       "    .dataframe tbody tr th {\n",
       "        vertical-align: top;\n",
       "    }\n",
       "\n",
       "    .dataframe thead th {\n",
       "        text-align: right;\n",
       "    }\n",
       "</style>\n",
       "<table border=\"1\" class=\"dataframe\">\n",
       "  <thead>\n",
       "    <tr style=\"text-align: right;\">\n",
       "      <th></th>\n",
       "      <th>Income</th>\n",
       "      <th>Age</th>\n",
       "      <th>Experience</th>\n",
       "      <th>CURRENT_JOB_YRS</th>\n",
       "      <th>CURRENT_HOUSE_YRS</th>\n",
       "    </tr>\n",
       "  </thead>\n",
       "  <tbody>\n",
       "    <tr>\n",
       "      <th>count</th>\n",
       "      <td>3.099600e+04</td>\n",
       "      <td>30996.00000</td>\n",
       "      <td>30996.000000</td>\n",
       "      <td>30996.000000</td>\n",
       "      <td>30996.000000</td>\n",
       "    </tr>\n",
       "    <tr>\n",
       "      <th>mean</th>\n",
       "      <td>4.973359e+06</td>\n",
       "      <td>48.96035</td>\n",
       "      <td>9.531101</td>\n",
       "      <td>6.168893</td>\n",
       "      <td>11.981449</td>\n",
       "    </tr>\n",
       "    <tr>\n",
       "      <th>std</th>\n",
       "      <td>2.921065e+06</td>\n",
       "      <td>17.36874</td>\n",
       "      <td>6.071810</td>\n",
       "      <td>3.748200</td>\n",
       "      <td>1.400140</td>\n",
       "    </tr>\n",
       "    <tr>\n",
       "      <th>min</th>\n",
       "      <td>1.067500e+04</td>\n",
       "      <td>21.00000</td>\n",
       "      <td>0.000000</td>\n",
       "      <td>0.000000</td>\n",
       "      <td>10.000000</td>\n",
       "    </tr>\n",
       "    <tr>\n",
       "      <th>25%</th>\n",
       "      <td>2.421029e+06</td>\n",
       "      <td>33.00000</td>\n",
       "      <td>4.000000</td>\n",
       "      <td>3.000000</td>\n",
       "      <td>11.000000</td>\n",
       "    </tr>\n",
       "    <tr>\n",
       "      <th>50%</th>\n",
       "      <td>4.977653e+06</td>\n",
       "      <td>49.00000</td>\n",
       "      <td>9.000000</td>\n",
       "      <td>6.000000</td>\n",
       "      <td>12.000000</td>\n",
       "    </tr>\n",
       "    <tr>\n",
       "      <th>75%</th>\n",
       "      <td>7.556052e+06</td>\n",
       "      <td>64.00000</td>\n",
       "      <td>15.000000</td>\n",
       "      <td>9.000000</td>\n",
       "      <td>13.000000</td>\n",
       "    </tr>\n",
       "    <tr>\n",
       "      <th>max</th>\n",
       "      <td>9.994501e+06</td>\n",
       "      <td>79.00000</td>\n",
       "      <td>20.000000</td>\n",
       "      <td>14.000000</td>\n",
       "      <td>14.000000</td>\n",
       "    </tr>\n",
       "  </tbody>\n",
       "</table>\n",
       "</div>"
      ],
      "text/plain": [
       "             Income          Age    Experience  CURRENT_JOB_YRS  \\\n",
       "count  3.099600e+04  30996.00000  30996.000000     30996.000000   \n",
       "mean   4.973359e+06     48.96035      9.531101         6.168893   \n",
       "std    2.921065e+06     17.36874      6.071810         3.748200   \n",
       "min    1.067500e+04     21.00000      0.000000         0.000000   \n",
       "25%    2.421029e+06     33.00000      4.000000         3.000000   \n",
       "50%    4.977653e+06     49.00000      9.000000         6.000000   \n",
       "75%    7.556052e+06     64.00000     15.000000         9.000000   \n",
       "max    9.994501e+06     79.00000     20.000000        14.000000   \n",
       "\n",
       "       CURRENT_HOUSE_YRS  \n",
       "count       30996.000000  \n",
       "mean           11.981449  \n",
       "std             1.400140  \n",
       "min            10.000000  \n",
       "25%            11.000000  \n",
       "50%            12.000000  \n",
       "75%            13.000000  \n",
       "max            14.000000  "
      ]
     },
     "execution_count": 8,
     "metadata": {},
     "output_type": "execute_result"
    }
   ],
   "source": [
    "defaulters[['Income', 'Age', 'Experience', 'CURRENT_JOB_YRS','CURRENT_HOUSE_YRS']].describe()"
   ]
  },
  {
   "cell_type": "markdown",
   "id": "f4be271b",
   "metadata": {},
   "source": [
    "### Слишком большое среднеквадратическое отклонение по возрасту"
   ]
  },
  {
   "cell_type": "code",
   "execution_count": 9,
   "id": "da4a335f",
   "metadata": {},
   "outputs": [
    {
     "data": {
      "text/plain": [
       "<AxesSubplot:>"
      ]
     },
     "execution_count": 9,
     "metadata": {},
     "output_type": "execute_result"
    },
    {
     "data": {
      "image/png": "[encoded data removed]",
      "text/plain": [
       "<Figure size 432x288 with 1 Axes>"
      ]
     },
     "metadata": {
      "needs_background": "light"
     },
     "output_type": "display_data"
    }
   ],
   "source": [
    "defaulters['Income'].hist()"
   ]
  },
  {
   "cell_type": "markdown",
   "id": "4fac3173",
   "metadata": {},
   "source": [
    "#### Мы видим по гистограмме, что переменная доход имеет мультимодальное распределение. Можно это подтвердить с помощью функции mode()"
   ]
  },
  {
   "cell_type": "code",
   "execution_count": 10,
   "id": "72a321fe",
   "metadata": {},
   "outputs": [
    {
     "data": {
      "text/plain": [
       "0     700444\n",
       "1    1362373\n",
       "2    3154685\n",
       "3    3424035\n",
       "4    6715263\n",
       "Name: Income, dtype: int64"
      ]
     },
     "execution_count": 10,
     "metadata": {},
     "output_type": "execute_result"
    }
   ],
   "source": [
    "defaulters['Income'].mode()"
   ]
  },
  {
   "cell_type": "code",
   "execution_count": 11,
   "id": "aae7e4c7",
   "metadata": {},
   "outputs": [],
   "source": [
    "### Создадим новую категориальную переменную income"
   ]
  },
  {
   "cell_type": "code",
   "execution_count": 25,
   "id": "ee2e2d6c",
   "metadata": {},
   "outputs": [],
   "source": [
    "def get_inc_cat(inc):\n",
    "    if inc < 500000:\n",
    "        return 'Низкий'\n",
    "    elif inc <3500000:\n",
    "        return 'Ниже среднего'\n",
    "    elif inc <5500000:\n",
    "        return 'Средний'\n",
    "    elif inc < 7500000:\n",
    "        return 'Высокий'\n",
    "    elif inc >= 7500000:\n",
    "        return 'Очень высокий'\n",
    "    else:\n",
    "        return inc"
   ]
  },
  {
   "cell_type": "code",
   "execution_count": 26,
   "id": "a9d43c2d",
   "metadata": {},
   "outputs": [
    {
     "name": "stderr",
     "output_type": "stream",
     "text": [
      "C:\\Users\\hp\\AppData\\Local\\Temp\\ipykernel_14456\\2401456954.py:1: SettingWithCopyWarning: \n",
      "A value is trying to be set on a copy of a slice from a DataFrame.\n",
      "Try using .loc[row_indexer,col_indexer] = value instead\n",
      "\n",
      "See the caveats in the documentation: https://pandas.pydata.org/pandas-docs/stable/user_guide/indexing.html#returning-a-view-versus-a-copy\n",
      "  defaulters['Income category'] = defaulters['Income'].apply(get_inc_cat)\n"
     ]
    }
   ],
   "source": [
    "defaulters['Income category'] = defaulters['Income'].apply(get_inc_cat)"
   ]
  },
  {
   "cell_type": "code",
   "execution_count": 27,
   "id": "4d022a86",
   "metadata": {},
   "outputs": [
    {
     "name": "stderr",
     "output_type": "stream",
     "text": [
      "C:\\Users\\hp\\AppData\\Local\\Temp\\ipykernel_14456\\2320997086.py:1: SettingWithCopyWarning: \n",
      "A value is trying to be set on a copy of a slice from a DataFrame.\n",
      "Try using .loc[row_indexer,col_indexer] = value instead\n",
      "\n",
      "See the caveats in the documentation: https://pandas.pydata.org/pandas-docs/stable/user_guide/indexing.html#returning-a-view-versus-a-copy\n",
      "  defaulters['Income category'] = pd.Categorical(defaulters['Income category'])\n"
     ]
    }
   ],
   "source": [
    "defaulters['Income category'] = pd.Categorical(defaulters['Income category'])"
   ]
  },
  {
   "cell_type": "code",
   "execution_count": 28,
   "id": "d824eed1",
   "metadata": {},
   "outputs": [
    {
     "name": "stdout",
     "output_type": "stream",
     "text": [
      "<class 'pandas.core.frame.DataFrame'>\n",
      "Int64Index: 30996 entries, 3 to 251993\n",
      "Data columns (total 14 columns):\n",
      " #   Column             Non-Null Count  Dtype   \n",
      "---  ------             --------------  -----   \n",
      " 0   Id                 30996 non-null  int64   \n",
      " 1   Income             30996 non-null  int64   \n",
      " 2   Age                30996 non-null  int64   \n",
      " 3   Experience         30996 non-null  int64   \n",
      " 4   Married/Single     30996 non-null  object  \n",
      " 5   House_Ownership    30996 non-null  object  \n",
      " 6   Car_Ownership      30996 non-null  object  \n",
      " 7   Profession         30996 non-null  object  \n",
      " 8   CITY               30996 non-null  object  \n",
      " 9   STATE              30996 non-null  object  \n",
      " 10  CURRENT_JOB_YRS    30996 non-null  int64   \n",
      " 11  CURRENT_HOUSE_YRS  30996 non-null  int64   \n",
      " 12  Risk_Flag          30996 non-null  int64   \n",
      " 13  Income category    30996 non-null  category\n",
      "dtypes: category(1), int64(7), object(6)\n",
      "memory usage: 3.3+ MB\n"
     ]
    }
   ],
   "source": [
    "defaulters.info()"
   ]
  },
  {
   "cell_type": "code",
   "execution_count": 29,
   "id": "49ab75a0",
   "metadata": {},
   "outputs": [
    {
     "data": {
      "text/html": [
       "<div>\n",
       "<style scoped>\n",
       "    .dataframe tbody tr th:only-of-type {\n",
       "        vertical-align: middle;\n",
       "    }\n",
       "\n",
       "    .dataframe tbody tr th {\n",
       "        vertical-align: top;\n",
       "    }\n",
       "\n",
       "    .dataframe thead th {\n",
       "        text-align: right;\n",
       "    }\n",
       "</style>\n",
       "<table border=\"1\" class=\"dataframe\">\n",
       "  <thead>\n",
       "    <tr style=\"text-align: right;\">\n",
       "      <th></th>\n",
       "      <th>Id</th>\n",
       "      <th>Income</th>\n",
       "      <th>Age</th>\n",
       "      <th>Experience</th>\n",
       "      <th>Married/Single</th>\n",
       "      <th>House_Ownership</th>\n",
       "      <th>Car_Ownership</th>\n",
       "      <th>Profession</th>\n",
       "      <th>CITY</th>\n",
       "      <th>STATE</th>\n",
       "      <th>CURRENT_JOB_YRS</th>\n",
       "      <th>CURRENT_HOUSE_YRS</th>\n",
       "      <th>Risk_Flag</th>\n",
       "      <th>Income category</th>\n",
       "    </tr>\n",
       "  </thead>\n",
       "  <tbody>\n",
       "    <tr>\n",
       "      <th>3</th>\n",
       "      <td>4</td>\n",
       "      <td>6256451</td>\n",
       "      <td>41</td>\n",
       "      <td>2</td>\n",
       "      <td>single</td>\n",
       "      <td>rented</td>\n",
       "      <td>yes</td>\n",
       "      <td>Software_Developer</td>\n",
       "      <td>Bhubaneswar</td>\n",
       "      <td>Odisha</td>\n",
       "      <td>2</td>\n",
       "      <td>12</td>\n",
       "      <td>1</td>\n",
       "      <td>Высокий</td>\n",
       "    </tr>\n",
       "    <tr>\n",
       "      <th>4</th>\n",
       "      <td>5</td>\n",
       "      <td>5768871</td>\n",
       "      <td>47</td>\n",
       "      <td>11</td>\n",
       "      <td>single</td>\n",
       "      <td>rented</td>\n",
       "      <td>no</td>\n",
       "      <td>Civil_servant</td>\n",
       "      <td>Tiruchirappalli[10]</td>\n",
       "      <td>Tamil_Nadu</td>\n",
       "      <td>3</td>\n",
       "      <td>14</td>\n",
       "      <td>1</td>\n",
       "      <td>Высокий</td>\n",
       "    </tr>\n",
       "    <tr>\n",
       "      <th>14</th>\n",
       "      <td>15</td>\n",
       "      <td>9420838</td>\n",
       "      <td>48</td>\n",
       "      <td>6</td>\n",
       "      <td>single</td>\n",
       "      <td>rented</td>\n",
       "      <td>no</td>\n",
       "      <td>Technical_writer</td>\n",
       "      <td>Madurai</td>\n",
       "      <td>Tamil_Nadu</td>\n",
       "      <td>6</td>\n",
       "      <td>10</td>\n",
       "      <td>1</td>\n",
       "      <td>Очень высокий</td>\n",
       "    </tr>\n",
       "    <tr>\n",
       "      <th>17</th>\n",
       "      <td>18</td>\n",
       "      <td>3666346</td>\n",
       "      <td>56</td>\n",
       "      <td>12</td>\n",
       "      <td>single</td>\n",
       "      <td>rented</td>\n",
       "      <td>no</td>\n",
       "      <td>Politician</td>\n",
       "      <td>Bhusawal</td>\n",
       "      <td>Maharashtra</td>\n",
       "      <td>12</td>\n",
       "      <td>11</td>\n",
       "      <td>1</td>\n",
       "      <td>Средний</td>\n",
       "    </tr>\n",
       "    <tr>\n",
       "      <th>28</th>\n",
       "      <td>29</td>\n",
       "      <td>8832725</td>\n",
       "      <td>64</td>\n",
       "      <td>5</td>\n",
       "      <td>single</td>\n",
       "      <td>rented</td>\n",
       "      <td>no</td>\n",
       "      <td>Biomedical_Engineer</td>\n",
       "      <td>Pondicherry</td>\n",
       "      <td>Puducherry</td>\n",
       "      <td>5</td>\n",
       "      <td>11</td>\n",
       "      <td>1</td>\n",
       "      <td>Очень высокий</td>\n",
       "    </tr>\n",
       "  </tbody>\n",
       "</table>\n",
       "</div>"
      ],
      "text/plain": [
       "    Id   Income  Age  Experience Married/Single House_Ownership Car_Ownership  \\\n",
       "3    4  6256451   41           2         single          rented           yes   \n",
       "4    5  5768871   47          11         single          rented            no   \n",
       "14  15  9420838   48           6         single          rented            no   \n",
       "17  18  3666346   56          12         single          rented            no   \n",
       "28  29  8832725   64           5         single          rented            no   \n",
       "\n",
       "             Profession                 CITY        STATE  CURRENT_JOB_YRS  \\\n",
       "3    Software_Developer          Bhubaneswar       Odisha                2   \n",
       "4         Civil_servant  Tiruchirappalli[10]   Tamil_Nadu                3   \n",
       "14     Technical_writer              Madurai   Tamil_Nadu                6   \n",
       "17           Politician             Bhusawal  Maharashtra               12   \n",
       "28  Biomedical_Engineer          Pondicherry   Puducherry                5   \n",
       "\n",
       "    CURRENT_HOUSE_YRS  Risk_Flag Income category  \n",
       "3                  12          1         Высокий  \n",
       "4                  14          1         Высокий  \n",
       "14                 10          1   Очень высокий  \n",
       "17                 11          1         Средний  \n",
       "28                 11          1   Очень высокий  "
      ]
     },
     "execution_count": 29,
     "metadata": {},
     "output_type": "execute_result"
    }
   ],
   "source": [
    "defaulters.head()"
   ]
  },
  {
   "cell_type": "code",
   "execution_count": 30,
   "id": "72891b3c",
   "metadata": {},
   "outputs": [
    {
     "data": {
      "text/plain": [
       "Ниже среднего    9283\n",
       "Очень высокий    7913\n",
       "Высокий          6120\n",
       "Средний          5899\n",
       "Низкий           1781\n",
       "Name: Income category, dtype: int64"
      ]
     },
     "execution_count": 30,
     "metadata": {},
     "output_type": "execute_result"
    }
   ],
   "source": [
    "defaulters['Income category'].value_counts()"
   ]
  },
  {
   "cell_type": "code",
   "execution_count": 31,
   "id": "ca1966c3",
   "metadata": {},
   "outputs": [
    {
     "data": {
      "text/plain": [
       "<AxesSubplot:>"
      ]
     },
     "execution_count": 31,
     "metadata": {},
     "output_type": "execute_result"
    },
    {
     "data": {
      "image/png": "[encoded data removed]",
      "text/plain": [
       "<Figure size 432x288 with 1 Axes>"
      ]
     },
     "metadata": {
      "needs_background": "light"
     },
     "output_type": "display_data"
    }
   ],
   "source": [
    "defaulters['Income category'].hist()"
   ]
  },
  {
   "cell_type": "markdown",
   "id": "b83ab0cb",
   "metadata": {},
   "source": [
    "### Мы видим, что неплательщиками в основном являются люди с доходом ниже среднего, либо с очень высоким доходом. Это связано со спецификой страны (Индия) - много людей за чертой бедности и много людей с высоким доходом.\n",
    "\n",
    "### Можно сделать предположение, что клиенты могли указать высокий доход с помощью кредитных специалистов или иными путями, но изначально платить этот кредит не собирались - мошенники. По-поводу неплательщиков с доходом ниже среднего можно предположить, что у клиентов проблемы с дисциплиной (постоянно опаздывает с выплатами), клиент попал в финансовую пирамиду (берёт новый кредит, чтобы погасить предыдущий и не успевает выплачивать).\n",
    "\n",
    "### Для проверки этих предположений, к сожалению, не хватает данных."
   ]
  },
  {
   "cell_type": "markdown",
   "id": "79f45296",
   "metadata": {},
   "source": [
    "### Перейдём к следующим переменным"
   ]
  },
  {
   "cell_type": "code",
   "execution_count": 33,
   "id": "23cfe33b",
   "metadata": {},
   "outputs": [
    {
     "data": {
      "text/plain": [
       "count    30996.00000\n",
       "mean        48.96035\n",
       "std         17.36874\n",
       "min         21.00000\n",
       "25%         33.00000\n",
       "50%         49.00000\n",
       "75%         64.00000\n",
       "max         79.00000\n",
       "Name: Age, dtype: float64"
      ]
     },
     "execution_count": 33,
     "metadata": {},
     "output_type": "execute_result"
    }
   ],
   "source": [
    "defaulters['Age'].describe()"
   ]
  },
  {
   "cell_type": "code",
   "execution_count": 32,
   "id": "f33d7247",
   "metadata": {},
   "outputs": [
    {
     "data": {
      "text/plain": [
       "<AxesSubplot:>"
      ]
     },
     "execution_count": 32,
     "metadata": {},
     "output_type": "execute_result"
    },
    {
     "data": {
      "image/png": "[encoded data removed]",
      "text/plain": [
       "<Figure size 432x288 with 1 Axes>"
      ]
     },
     "metadata": {
      "needs_background": "light"
     },
     "output_type": "display_data"
    }
   ],
   "source": [
    "defaulters['Age'].hist()"
   ]
  },
  {
   "cell_type": "markdown",
   "id": "445b5aa6",
   "metadata": {},
   "source": [
    "### Основные неплательщики находятся в возрасте от 21 до 33 лет, хотя ярко выделяющейся возрастной группы нет"
   ]
  },
  {
   "cell_type": "code",
   "execution_count": 34,
   "id": "a7543543",
   "metadata": {},
   "outputs": [
    {
     "data": {
      "text/plain": [
       "<AxesSubplot:>"
      ]
     },
     "execution_count": 34,
     "metadata": {},
     "output_type": "execute_result"
    },
    {
     "data": {
      "image/png": "[encoded data removed]",
      "text/plain": [
       "<Figure size 432x288 with 1 Axes>"
      ]
     },
     "metadata": {
      "needs_background": "light"
     },
     "output_type": "display_data"
    }
   ],
   "source": [
    "defaulters['Experience'].hist()"
   ]
  },
  {
   "cell_type": "markdown",
   "id": "6e7bb8e4",
   "metadata": {},
   "source": [
    "### По опыту работы нельзя выделить какую-то конкретную группу, которая не платит чаще всего. Примерно все на одном уровне."
   ]
  },
  {
   "cell_type": "code",
   "execution_count": 42,
   "id": "93dd3e9e",
   "metadata": {},
   "outputs": [
    {
     "data": {
      "text/plain": [
       "<AxesSubplot:ylabel='Married/Single'>"
      ]
     },
     "execution_count": 42,
     "metadata": {},
     "output_type": "execute_result"
    },
    {
     "data": {
      "image/png": "[encoded data removed]",
      "text/plain": [
       "<Figure size 432x288 with 1 Axes>"
      ]
     },
     "metadata": {},
     "output_type": "display_data"
    }
   ],
   "source": [
    "defaulters['Married/Single'].value_counts().plot.pie(autopct = '%1.0f%%', labeldistance = 1)"
   ]
  },
  {
   "cell_type": "markdown",
   "id": "6eb9b32c",
   "metadata": {},
   "source": [
    "### Абсолютное большинство неплательщиков одиноки."
   ]
  },
  {
   "cell_type": "code",
   "execution_count": 59,
   "id": "2d0bdc65",
   "metadata": {},
   "outputs": [
    {
     "data": {
      "text/plain": [
       "Married/Single  Risk_Flag\n",
       "married         0             23092\n",
       "                1              2636\n",
       "single          0            197912\n",
       "                1             28360\n",
       "Name: Risk_Flag, dtype: int64"
      ]
     },
     "execution_count": 59,
     "metadata": {},
     "output_type": "execute_result"
    }
   ],
   "source": [
    "loan.groupby('Married/Single')['Risk_Flag'].value_counts()"
   ]
  },
  {
   "cell_type": "markdown",
   "id": "b58ffed8",
   "metadata": {},
   "source": [
    "### Хотя, если смотреть в разрезе группы по ссемейному статусу, проценты не сильно отличаются. 11% из женатых/замужних людей не выплачивают кредиты и 14% из одиноких."
   ]
  },
  {
   "cell_type": "markdown",
   "id": "09c750ce",
   "metadata": {},
   "source": [
    "#### Проанализируем аналогично оставшиеся параметры"
   ]
  },
  {
   "cell_type": "code",
   "execution_count": 44,
   "id": "fc4189dc",
   "metadata": {},
   "outputs": [
    {
     "data": {
      "text/plain": [
       "rented          29121\n",
       "owned            1160\n",
       "norent_noown      715\n",
       "Name: House_Ownership, dtype: int64"
      ]
     },
     "execution_count": 44,
     "metadata": {},
     "output_type": "execute_result"
    }
   ],
   "source": [
    "defaulters['House_Ownership'].value_counts()"
   ]
  },
  {
   "cell_type": "markdown",
   "id": "8abb2d74",
   "metadata": {},
   "source": [
    "### Абсолютное большинство неплательщиков арендуют дома, в которых живут"
   ]
  },
  {
   "cell_type": "code",
   "execution_count": 45,
   "id": "3583b5a5",
   "metadata": {
    "scrolled": true
   },
   "outputs": [
    {
     "data": {
      "text/plain": [
       "no     22561\n",
       "yes     8435\n",
       "Name: Car_Ownership, dtype: int64"
      ]
     },
     "execution_count": 45,
     "metadata": {},
     "output_type": "execute_result"
    }
   ],
   "source": [
    "defaulters['Car_Ownership'].value_counts()"
   ]
  },
  {
   "cell_type": "markdown",
   "id": "0aff1f09",
   "metadata": {},
   "source": [
    "### Абсолютное большинство неплательщиков не имеет машины"
   ]
  },
  {
   "cell_type": "code",
   "execution_count": 46,
   "id": "5cd9a9d8",
   "metadata": {},
   "outputs": [
    {
     "data": {
      "text/plain": [
       "Police_officer                826\n",
       "Software_Developer            750\n",
       "Air_traffic_controller        715\n",
       "Surveyor                      714\n",
       "Physician                     710\n",
       "Army_officer                  709\n",
       "Hotel_Manager                 701\n",
       "Technical_writer              697\n",
       "Chartered_Accountant          690\n",
       "Scientist                     690\n",
       "Computer_hardware_engineer    690\n",
       "Geologist                     674\n",
       "Statistician                  671\n",
       "Secretary                     660\n",
       "Psychologist                  657\n",
       "Biomedical_Engineer           654\n",
       "Magistrate                    643\n",
       "Aviator                       642\n",
       "Flight_attendant              634\n",
       "Comedian                      629\n",
       "Civil_engineer                627\n",
       "Lawyer                        624\n",
       "Technician                    624\n",
       "Computer_operator             619\n",
       "Fashion_Designer              612\n",
       "Firefighter                   612\n",
       "Architect                     611\n",
       "Microbiologist                607\n",
       "Drafter                       605\n",
       "Consultant                    602\n",
       "Graphic_Designer              596\n",
       "Artist                        596\n",
       "Web_designer                  589\n",
       "Mechanical_engineer           582\n",
       "Chemical_engineer             581\n",
       "Analyst                       567\n",
       "Chef                          563\n",
       "Official                      555\n",
       "Politician                    555\n",
       "Surgeon                       551\n",
       "Financial_Analyst             533\n",
       "Dentist                       524\n",
       "Librarian                     521\n",
       "Industrial_Engineer           518\n",
       "Civil_servant                 511\n",
       "Design_Engineer               506\n",
       "Designer                      502\n",
       "Engineer                      478\n",
       "Economist                     454\n",
       "Petroleum_Engineer            429\n",
       "Technology_specialist         386\n",
       "Name: Profession, dtype: int64"
      ]
     },
     "execution_count": 46,
     "metadata": {},
     "output_type": "execute_result"
    }
   ],
   "source": [
    "defaulters['Profession'].value_counts()"
   ]
  },
  {
   "cell_type": "markdown",
   "id": "72a76047",
   "metadata": {},
   "source": [
    "### Однозначно определить профессию неплательщиков трудно"
   ]
  },
  {
   "cell_type": "code",
   "execution_count": 47,
   "id": "fcb9bfdf",
   "metadata": {},
   "outputs": [
    {
     "data": {
      "text/plain": [
       "Kochi               243\n",
       "Satna               232\n",
       "Buxar[37]           228\n",
       "Srinagar            216\n",
       "Indore              212\n",
       "                   ... \n",
       "Latur                23\n",
       "Katni                21\n",
       "Bijapur              20\n",
       "Sultan_Pur_Majra     18\n",
       "Gandhinagar          17\n",
       "Name: CITY, Length: 317, dtype: int64"
      ]
     },
     "execution_count": 47,
     "metadata": {},
     "output_type": "execute_result"
    }
   ],
   "source": [
    "defaulters['CITY'].value_counts()"
   ]
  },
  {
   "cell_type": "code",
   "execution_count": 48,
   "id": "b8107c49",
   "metadata": {},
   "outputs": [
    {
     "data": {
      "text/plain": [
       "Uttar_Pradesh        3343\n",
       "West_Bengal          3009\n",
       "Andhra_Pradesh       2935\n",
       "Maharashtra          2895\n",
       "Bihar                2583\n",
       "Madhya_Pradesh       2180\n",
       "Tamil_Nadu           1706\n",
       "Gujarat              1343\n",
       "Rajasthan            1292\n",
       "Jharkhand            1195\n",
       "Karnataka            1189\n",
       "Haryana               980\n",
       "Telangana             979\n",
       "Kerala                970\n",
       "Assam                 930\n",
       "Odisha                664\n",
       "Delhi                 574\n",
       "Chhattisgarh          511\n",
       "Punjab                425\n",
       "Jammu_and_Kashmir     283\n",
       "Manipur               183\n",
       "Puducherry            167\n",
       "Tripura               136\n",
       "Uttarakhand           133\n",
       "Himachal_Pradesh      111\n",
       "Uttar_Pradesh[5]       97\n",
       "Mizoram                94\n",
       "Chandigarh             61\n",
       "Sikkim                 28\n",
       "Name: STATE, dtype: int64"
      ]
     },
     "execution_count": 48,
     "metadata": {},
     "output_type": "execute_result"
    }
   ],
   "source": [
    "defaulters['STATE'].value_counts()"
   ]
  },
  {
   "cell_type": "markdown",
   "id": "288964b7",
   "metadata": {},
   "source": [
    "### Города и штаты не выделяют группу неплательщиков из конкретного региона, т.к. первые топ 5 уже покрывают карту Индии и на юге, и на севере почти полностью"
   ]
  },
  {
   "cell_type": "code",
   "execution_count": 56,
   "id": "57f75d2b",
   "metadata": {
    "scrolled": false
   },
   "outputs": [
    {
     "data": {
      "image/png": "[encoded data removed]",
      "text/plain": [
       "<Figure size 432x288 with 1 Axes>"
      ]
     },
     "metadata": {
      "needs_background": "light"
     },
     "output_type": "display_data"
    }
   ],
   "source": [
    "cur_job_y = defaulters['CURRENT_JOB_YRS'].value_counts().plot.barh()"
   ]
  },
  {
   "cell_type": "markdown",
   "id": "524bb04e",
   "metadata": {},
   "source": [
    "### Большая часть людей, не выплачивающих кредиты, имеют стаж от 3 до 8 лет на текущем месте работы"
   ]
  },
  {
   "cell_type": "code",
   "execution_count": 50,
   "id": "128f5a15",
   "metadata": {},
   "outputs": [
    {
     "data": {
      "text/plain": [
       "11    6483\n",
       "12    6304\n",
       "13    6182\n",
       "10    6082\n",
       "14    5945\n",
       "Name: CURRENT_HOUSE_YRS, dtype: int64"
      ]
     },
     "execution_count": 50,
     "metadata": {},
     "output_type": "execute_result"
    }
   ],
   "source": [
    "defaulters['CURRENT_HOUSE_YRS'].value_counts()"
   ]
  },
  {
   "cell_type": "markdown",
   "id": "f49f5dd6",
   "metadata": {},
   "source": [
    "### Время проживания в настоящем месте пребывания не является показательным при описании портрета неплательщика"
   ]
  },
  {
   "cell_type": "markdown",
   "id": "db4d3b0e",
   "metadata": {},
   "source": [
    "### Попробуем построить портрет неплательщика"
   ]
  },
  {
   "cell_type": "markdown",
   "id": "a17ad0e7",
   "metadata": {},
   "source": [
    "### Для этого отфильтруем наш датафрейм по категориям, которые ярко выражены у неплательщиков: Married/Single, House_Ownership, Car_Ownership"
   ]
  },
  {
   "cell_type": "code",
   "execution_count": 79,
   "id": "8b020325",
   "metadata": {},
   "outputs": [
    {
     "data": {
      "text/html": [
       "<div>\n",
       "<style scoped>\n",
       "    .dataframe tbody tr th:only-of-type {\n",
       "        vertical-align: middle;\n",
       "    }\n",
       "\n",
       "    .dataframe tbody tr th {\n",
       "        vertical-align: top;\n",
       "    }\n",
       "\n",
       "    .dataframe thead th {\n",
       "        text-align: right;\n",
       "    }\n",
       "</style>\n",
       "<table border=\"1\" class=\"dataframe\">\n",
       "  <thead>\n",
       "    <tr style=\"text-align: right;\">\n",
       "      <th></th>\n",
       "      <th>Id</th>\n",
       "      <th>Income</th>\n",
       "      <th>Age</th>\n",
       "      <th>Experience</th>\n",
       "      <th>Married/Single</th>\n",
       "      <th>House_Ownership</th>\n",
       "      <th>Car_Ownership</th>\n",
       "      <th>Profession</th>\n",
       "      <th>CITY</th>\n",
       "      <th>STATE</th>\n",
       "      <th>CURRENT_JOB_YRS</th>\n",
       "      <th>CURRENT_HOUSE_YRS</th>\n",
       "      <th>Risk_Flag</th>\n",
       "      <th>Income category</th>\n",
       "    </tr>\n",
       "  </thead>\n",
       "  <tbody>\n",
       "    <tr>\n",
       "      <th>4</th>\n",
       "      <td>5</td>\n",
       "      <td>5768871</td>\n",
       "      <td>47</td>\n",
       "      <td>11</td>\n",
       "      <td>single</td>\n",
       "      <td>rented</td>\n",
       "      <td>no</td>\n",
       "      <td>Civil_servant</td>\n",
       "      <td>Tiruchirappalli[10]</td>\n",
       "      <td>Tamil_Nadu</td>\n",
       "      <td>3</td>\n",
       "      <td>14</td>\n",
       "      <td>1</td>\n",
       "      <td>Высокий</td>\n",
       "    </tr>\n",
       "    <tr>\n",
       "      <th>14</th>\n",
       "      <td>15</td>\n",
       "      <td>9420838</td>\n",
       "      <td>48</td>\n",
       "      <td>6</td>\n",
       "      <td>single</td>\n",
       "      <td>rented</td>\n",
       "      <td>no</td>\n",
       "      <td>Technical_writer</td>\n",
       "      <td>Madurai</td>\n",
       "      <td>Tamil_Nadu</td>\n",
       "      <td>6</td>\n",
       "      <td>10</td>\n",
       "      <td>1</td>\n",
       "      <td>Очень высокий</td>\n",
       "    </tr>\n",
       "    <tr>\n",
       "      <th>17</th>\n",
       "      <td>18</td>\n",
       "      <td>3666346</td>\n",
       "      <td>56</td>\n",
       "      <td>12</td>\n",
       "      <td>single</td>\n",
       "      <td>rented</td>\n",
       "      <td>no</td>\n",
       "      <td>Politician</td>\n",
       "      <td>Bhusawal</td>\n",
       "      <td>Maharashtra</td>\n",
       "      <td>12</td>\n",
       "      <td>11</td>\n",
       "      <td>1</td>\n",
       "      <td>Средний</td>\n",
       "    </tr>\n",
       "    <tr>\n",
       "      <th>28</th>\n",
       "      <td>29</td>\n",
       "      <td>8832725</td>\n",
       "      <td>64</td>\n",
       "      <td>5</td>\n",
       "      <td>single</td>\n",
       "      <td>rented</td>\n",
       "      <td>no</td>\n",
       "      <td>Biomedical_Engineer</td>\n",
       "      <td>Pondicherry</td>\n",
       "      <td>Puducherry</td>\n",
       "      <td>5</td>\n",
       "      <td>11</td>\n",
       "      <td>1</td>\n",
       "      <td>Очень высокий</td>\n",
       "    </tr>\n",
       "    <tr>\n",
       "      <th>42</th>\n",
       "      <td>43</td>\n",
       "      <td>9760667</td>\n",
       "      <td>63</td>\n",
       "      <td>17</td>\n",
       "      <td>single</td>\n",
       "      <td>rented</td>\n",
       "      <td>no</td>\n",
       "      <td>Chartered_Accountant</td>\n",
       "      <td>Khandwa</td>\n",
       "      <td>Madhya_Pradesh</td>\n",
       "      <td>13</td>\n",
       "      <td>12</td>\n",
       "      <td>1</td>\n",
       "      <td>Очень высокий</td>\n",
       "    </tr>\n",
       "    <tr>\n",
       "      <th>...</th>\n",
       "      <td>...</td>\n",
       "      <td>...</td>\n",
       "      <td>...</td>\n",
       "      <td>...</td>\n",
       "      <td>...</td>\n",
       "      <td>...</td>\n",
       "      <td>...</td>\n",
       "      <td>...</td>\n",
       "      <td>...</td>\n",
       "      <td>...</td>\n",
       "      <td>...</td>\n",
       "      <td>...</td>\n",
       "      <td>...</td>\n",
       "      <td>...</td>\n",
       "    </tr>\n",
       "    <tr>\n",
       "      <th>251973</th>\n",
       "      <td>251974</td>\n",
       "      <td>1244622</td>\n",
       "      <td>35</td>\n",
       "      <td>15</td>\n",
       "      <td>single</td>\n",
       "      <td>rented</td>\n",
       "      <td>no</td>\n",
       "      <td>Psychologist</td>\n",
       "      <td>Alwar</td>\n",
       "      <td>Rajasthan</td>\n",
       "      <td>3</td>\n",
       "      <td>11</td>\n",
       "      <td>1</td>\n",
       "      <td>Ниже среднего</td>\n",
       "    </tr>\n",
       "    <tr>\n",
       "      <th>251977</th>\n",
       "      <td>251978</td>\n",
       "      <td>1330613</td>\n",
       "      <td>63</td>\n",
       "      <td>19</td>\n",
       "      <td>single</td>\n",
       "      <td>rented</td>\n",
       "      <td>no</td>\n",
       "      <td>Engineer</td>\n",
       "      <td>Purnia[26]</td>\n",
       "      <td>Bihar</td>\n",
       "      <td>13</td>\n",
       "      <td>12</td>\n",
       "      <td>1</td>\n",
       "      <td>Ниже среднего</td>\n",
       "    </tr>\n",
       "    <tr>\n",
       "      <th>251981</th>\n",
       "      <td>251982</td>\n",
       "      <td>1796713</td>\n",
       "      <td>47</td>\n",
       "      <td>2</td>\n",
       "      <td>single</td>\n",
       "      <td>rented</td>\n",
       "      <td>no</td>\n",
       "      <td>Technician</td>\n",
       "      <td>Kolhapur</td>\n",
       "      <td>Maharashtra</td>\n",
       "      <td>2</td>\n",
       "      <td>12</td>\n",
       "      <td>1</td>\n",
       "      <td>Ниже среднего</td>\n",
       "    </tr>\n",
       "    <tr>\n",
       "      <th>251982</th>\n",
       "      <td>251983</td>\n",
       "      <td>3182290</td>\n",
       "      <td>52</td>\n",
       "      <td>2</td>\n",
       "      <td>single</td>\n",
       "      <td>rented</td>\n",
       "      <td>no</td>\n",
       "      <td>Drafter</td>\n",
       "      <td>Naihati</td>\n",
       "      <td>West_Bengal</td>\n",
       "      <td>2</td>\n",
       "      <td>10</td>\n",
       "      <td>1</td>\n",
       "      <td>Ниже среднего</td>\n",
       "    </tr>\n",
       "    <tr>\n",
       "      <th>251993</th>\n",
       "      <td>251994</td>\n",
       "      <td>8141027</td>\n",
       "      <td>60</td>\n",
       "      <td>10</td>\n",
       "      <td>single</td>\n",
       "      <td>rented</td>\n",
       "      <td>no</td>\n",
       "      <td>Secretary</td>\n",
       "      <td>Bhusawal</td>\n",
       "      <td>Maharashtra</td>\n",
       "      <td>9</td>\n",
       "      <td>13</td>\n",
       "      <td>1</td>\n",
       "      <td>Очень высокий</td>\n",
       "    </tr>\n",
       "  </tbody>\n",
       "</table>\n",
       "<p>19353 rows × 14 columns</p>\n",
       "</div>"
      ],
      "text/plain": [
       "            Id   Income  Age  Experience Married/Single House_Ownership  \\\n",
       "4            5  5768871   47          11         single          rented   \n",
       "14          15  9420838   48           6         single          rented   \n",
       "17          18  3666346   56          12         single          rented   \n",
       "28          29  8832725   64           5         single          rented   \n",
       "42          43  9760667   63          17         single          rented   \n",
       "...        ...      ...  ...         ...            ...             ...   \n",
       "251973  251974  1244622   35          15         single          rented   \n",
       "251977  251978  1330613   63          19         single          rented   \n",
       "251981  251982  1796713   47           2         single          rented   \n",
       "251982  251983  3182290   52           2         single          rented   \n",
       "251993  251994  8141027   60          10         single          rented   \n",
       "\n",
       "       Car_Ownership            Profession                 CITY  \\\n",
       "4                 no         Civil_servant  Tiruchirappalli[10]   \n",
       "14                no      Technical_writer              Madurai   \n",
       "17                no            Politician             Bhusawal   \n",
       "28                no   Biomedical_Engineer          Pondicherry   \n",
       "42                no  Chartered_Accountant              Khandwa   \n",
       "...              ...                   ...                  ...   \n",
       "251973            no          Psychologist                Alwar   \n",
       "251977            no              Engineer           Purnia[26]   \n",
       "251981            no            Technician             Kolhapur   \n",
       "251982            no               Drafter              Naihati   \n",
       "251993            no             Secretary             Bhusawal   \n",
       "\n",
       "                 STATE  CURRENT_JOB_YRS  CURRENT_HOUSE_YRS  Risk_Flag  \\\n",
       "4           Tamil_Nadu                3                 14          1   \n",
       "14          Tamil_Nadu                6                 10          1   \n",
       "17         Maharashtra               12                 11          1   \n",
       "28          Puducherry                5                 11          1   \n",
       "42      Madhya_Pradesh               13                 12          1   \n",
       "...                ...              ...                ...        ...   \n",
       "251973       Rajasthan                3                 11          1   \n",
       "251977           Bihar               13                 12          1   \n",
       "251981     Maharashtra                2                 12          1   \n",
       "251982     West_Bengal                2                 10          1   \n",
       "251993     Maharashtra                9                 13          1   \n",
       "\n",
       "       Income category  \n",
       "4              Высокий  \n",
       "14       Очень высокий  \n",
       "17             Средний  \n",
       "28       Очень высокий  \n",
       "42       Очень высокий  \n",
       "...                ...  \n",
       "251973   Ниже среднего  \n",
       "251977   Ниже среднего  \n",
       "251981   Ниже среднего  \n",
       "251982   Ниже среднего  \n",
       "251993   Очень высокий  \n",
       "\n",
       "[19353 rows x 14 columns]"
      ]
     },
     "execution_count": 79,
     "metadata": {},
     "output_type": "execute_result"
    }
   ],
   "source": [
    "defaulters[(defaulters['Married/Single'] == 'single') & (defaulters['House_Ownership'] == 'rented') & (defaulters['Car_Ownership'] == 'no')]"
   ]
  },
  {
   "cell_type": "code",
   "execution_count": 80,
   "id": "2eac04e3",
   "metadata": {},
   "outputs": [],
   "source": [
    "d_sorted = defaulters[(defaulters['Married/Single'] == 'single') & (defaulters['House_Ownership'] == 'rented') & (defaulters['Car_Ownership'] == 'no')]"
   ]
  },
  {
   "cell_type": "markdown",
   "id": "39b1161f",
   "metadata": {},
   "source": [
    "### Изучим описательные статистики оставшихся категорий в отсортированном датафрейме"
   ]
  },
  {
   "cell_type": "code",
   "execution_count": 83,
   "id": "93a88a11",
   "metadata": {
    "scrolled": true
   },
   "outputs": [
    {
     "data": {
      "text/plain": [
       "count    19353.000000\n",
       "mean        48.637782\n",
       "std         17.562634\n",
       "min         21.000000\n",
       "25%         33.000000\n",
       "50%         48.000000\n",
       "75%         64.000000\n",
       "max         79.000000\n",
       "Name: Age, dtype: float64"
      ]
     },
     "execution_count": 83,
     "metadata": {},
     "output_type": "execute_result"
    }
   ],
   "source": [
    "d_sorted['Age'].describe()"
   ]
  },
  {
   "cell_type": "code",
   "execution_count": 84,
   "id": "160e1b39",
   "metadata": {},
   "outputs": [
    {
     "data": {
      "text/plain": [
       "0    22\n",
       "Name: Age, dtype: int64"
      ]
     },
     "execution_count": 84,
     "metadata": {},
     "output_type": "execute_result"
    }
   ],
   "source": [
    "d_sorted['Age'].mode()"
   ]
  },
  {
   "cell_type": "code",
   "execution_count": 85,
   "id": "f0dc9455",
   "metadata": {},
   "outputs": [
    {
     "data": {
      "text/plain": [
       "Ниже среднего    5480\n",
       "Очень высокий    5205\n",
       "Средний          3815\n",
       "Высокий          3788\n",
       "Низкий           1065\n",
       "Name: Income category, dtype: int64"
      ]
     },
     "execution_count": 85,
     "metadata": {},
     "output_type": "execute_result"
    }
   ],
   "source": [
    "d_sorted['Income category'].value_counts()"
   ]
  },
  {
   "cell_type": "code",
   "execution_count": 87,
   "id": "ea36e080",
   "metadata": {},
   "outputs": [
    {
     "data": {
      "text/plain": [
       "count    19353.000000\n",
       "mean         9.620627\n",
       "std          6.112621\n",
       "min          0.000000\n",
       "25%          4.000000\n",
       "50%         10.000000\n",
       "75%         15.000000\n",
       "max         20.000000\n",
       "Name: Experience, dtype: float64"
      ]
     },
     "execution_count": 87,
     "metadata": {},
     "output_type": "execute_result"
    }
   ],
   "source": [
    "d_sorted['Experience'].describe()"
   ]
  },
  {
   "cell_type": "code",
   "execution_count": 88,
   "id": "1bf3fbf9",
   "metadata": {},
   "outputs": [
    {
     "data": {
      "text/plain": [
       "Physician                     543\n",
       "Police_officer                540\n",
       "Army_officer                  516\n",
       "Psychologist                  470\n",
       "Software_Developer            468\n",
       "Chartered_Accountant          458\n",
       "Computer_hardware_engineer    438\n",
       "Air_traffic_controller        437\n",
       "Hotel_Manager                 437\n",
       "Consultant                    436\n",
       "Microbiologist                435\n",
       "Magistrate                    432\n",
       "Biomedical_Engineer           429\n",
       "Flight_attendant              425\n",
       "Technical_writer              422\n",
       "Chemical_engineer             416\n",
       "Civil_engineer                415\n",
       "Architect                     409\n",
       "Secretary                     403\n",
       "Artist                        403\n",
       "Surveyor                      394\n",
       "Lawyer                        394\n",
       "Statistician                  392\n",
       "Scientist                     390\n",
       "Chef                          390\n",
       "Fashion_Designer              389\n",
       "Comedian                      387\n",
       "Mechanical_engineer           385\n",
       "Geologist                     375\n",
       "Web_designer                  373\n",
       "Official                      372\n",
       "Aviator                       371\n",
       "Analyst                       361\n",
       "Librarian                     358\n",
       "Technician                    349\n",
       "Surgeon                       347\n",
       "Drafter                       342\n",
       "Dentist                       337\n",
       "Firefighter                   334\n",
       "Engineer                      333\n",
       "Industrial_Engineer           331\n",
       "Design_Engineer               313\n",
       "Economist                     313\n",
       "Politician                    301\n",
       "Designer                      299\n",
       "Computer_operator             293\n",
       "Graphic_Designer              284\n",
       "Financial_Analyst             264\n",
       "Civil_servant                 262\n",
       "Technology_specialist         198\n",
       "Petroleum_Engineer            190\n",
       "Name: Profession, dtype: int64"
      ]
     },
     "execution_count": 88,
     "metadata": {},
     "output_type": "execute_result"
    }
   ],
   "source": [
    "d_sorted['Profession'].value_counts()"
   ]
  },
  {
   "cell_type": "code",
   "execution_count": 90,
   "id": "d095fdeb",
   "metadata": {},
   "outputs": [
    {
     "data": {
      "text/plain": [
       "Uttar_Pradesh        2046\n",
       "West_Bengal          1957\n",
       "Andhra_Pradesh       1925\n",
       "Maharashtra          1763\n",
       "Bihar                1654\n",
       "Madhya_Pradesh       1380\n",
       "Tamil_Nadu           1047\n",
       "Rajasthan             886\n",
       "Karnataka             861\n",
       "Gujarat               721\n",
       "Jharkhand             712\n",
       "Assam                 608\n",
       "Haryana               594\n",
       "Kerala                589\n",
       "Telangana             530\n",
       "Odisha                420\n",
       "Delhi                 341\n",
       "Chhattisgarh          245\n",
       "Punjab                245\n",
       "Jammu_and_Kashmir     241\n",
       "Manipur               165\n",
       "Puducherry            109\n",
       "Himachal_Pradesh       85\n",
       "Tripura                61\n",
       "Uttarakhand            53\n",
       "Mizoram                49\n",
       "Chandigarh             36\n",
       "Uttar_Pradesh[5]       19\n",
       "Sikkim                 11\n",
       "Name: STATE, dtype: int64"
      ]
     },
     "execution_count": 90,
     "metadata": {},
     "output_type": "execute_result"
    }
   ],
   "source": [
    "d_sorted['STATE'].value_counts()"
   ]
  },
  {
   "cell_type": "code",
   "execution_count": 91,
   "id": "844ac4de",
   "metadata": {},
   "outputs": [
    {
     "data": {
      "text/plain": [
       "count    19353.000000\n",
       "mean         6.193768\n",
       "std          3.792026\n",
       "min          0.000000\n",
       "25%          3.000000\n",
       "50%          6.000000\n",
       "75%          9.000000\n",
       "max         14.000000\n",
       "Name: CURRENT_JOB_YRS, dtype: float64"
      ]
     },
     "execution_count": 91,
     "metadata": {},
     "output_type": "execute_result"
    }
   ],
   "source": [
    "d_sorted['CURRENT_JOB_YRS'].describe()"
   ]
  },
  {
   "cell_type": "code",
   "execution_count": 92,
   "id": "4b59fa76",
   "metadata": {},
   "outputs": [
    {
     "data": {
      "text/plain": [
       "0    3\n",
       "Name: CURRENT_JOB_YRS, dtype: int64"
      ]
     },
     "execution_count": 92,
     "metadata": {},
     "output_type": "execute_result"
    }
   ],
   "source": [
    "d_sorted['CURRENT_JOB_YRS'].mode()"
   ]
  },
  {
   "cell_type": "code",
   "execution_count": 93,
   "id": "8a2fa58d",
   "metadata": {},
   "outputs": [
    {
     "data": {
      "text/plain": [
       "count    19353.000000\n",
       "mean        11.975146\n",
       "std          1.400611\n",
       "min         10.000000\n",
       "25%         11.000000\n",
       "50%         12.000000\n",
       "75%         13.000000\n",
       "max         14.000000\n",
       "Name: CURRENT_HOUSE_YRS, dtype: float64"
      ]
     },
     "execution_count": 93,
     "metadata": {},
     "output_type": "execute_result"
    }
   ],
   "source": [
    "d_sorted['CURRENT_HOUSE_YRS'].describe()"
   ]
  },
  {
   "cell_type": "code",
   "execution_count": 94,
   "id": "7fc82ee7",
   "metadata": {},
   "outputs": [
    {
     "data": {
      "text/plain": [
       "0    11\n",
       "Name: CURRENT_HOUSE_YRS, dtype: int64"
      ]
     },
     "execution_count": 94,
     "metadata": {},
     "output_type": "execute_result"
    }
   ],
   "source": [
    "d_sorted['CURRENT_HOUSE_YRS'].mode()"
   ]
  },
  {
   "cell_type": "markdown",
   "id": "c4fd9e56",
   "metadata": {},
   "source": [
    "## Проанализировав описательные статистики, можно составить портрет типичного неплательщика"
   ]
  },
  {
   "cell_type": "code",
   "execution_count": 95,
   "id": "005b6929",
   "metadata": {},
   "outputs": [],
   "source": [
    "from tabulate import tabulate"
   ]
  },
  {
   "cell_type": "code",
   "execution_count": 100,
   "id": "cbe4cc00",
   "metadata": {},
   "outputs": [
    {
     "name": "stdout",
     "output_type": "stream",
     "text": [
      "+--------------------------------------------+--------------------------------------------------------------------------------------------+\n",
      "| Фактор                                     | Описание                                                                                   |\n",
      "+============================================+============================================================================================+\n",
      "| Возраст                                    | 20-30                                                                                      |\n",
      "+--------------------------------------------+--------------------------------------------------------------------------------------------+\n",
      "| Доход                                      | Ниже среднего, Очень высокий                                                               |\n",
      "+--------------------------------------------+--------------------------------------------------------------------------------------------+\n",
      "| Семейный статус                            | Одиноки                                                                                    |\n",
      "+--------------------------------------------+--------------------------------------------------------------------------------------------+\n",
      "| Штат проживания                            | Уттар-Прадеш, Западная Бенгалия, Андхра-Прадеш, Махараштра, Бихар, Мадхья-Прадеш ,Тамилнад |\n",
      "+--------------------------------------------+--------------------------------------------------------------------------------------------+\n",
      "| Жильё                                      | Арендованное                                                                               |\n",
      "+--------------------------------------------+--------------------------------------------------------------------------------------------+\n",
      "| Наличие автомобиля                         | Нет                                                                                        |\n",
      "+--------------------------------------------+--------------------------------------------------------------------------------------------+\n",
      "| Рабочий стаж                               | 3-10 лет                                                                                   |\n",
      "+--------------------------------------------+--------------------------------------------------------------------------------------------+\n",
      "| Стаж на текущем месте работы               | 3-6 лет                                                                                    |\n",
      "+--------------------------------------------+--------------------------------------------------------------------------------------------+\n",
      "| Кол-во времени проживания на текущем месте | 11                                                                                         |\n",
      "+--------------------------------------------+--------------------------------------------------------------------------------------------+\n",
      "| Профессия                                  | Разнообразный род деятельности                                                             |\n",
      "+--------------------------------------------+--------------------------------------------------------------------------------------------+\n"
     ]
    }
   ],
   "source": [
    "mydata = [\n",
    "    ['Возраст', '20-30'],\n",
    "    ['Доход', 'Ниже среднего, Очень высокий'],\n",
    "    ['Семейный статус', 'Одиноки'],\n",
    "    ['Штат проживания', 'Уттар-Прадеш, Западная Бенгалия, Андхра-Прадеш, Махараштра, Бихар, Мадхья-Прадеш ,Тамилнад'],\n",
    "    ['Жильё', 'Арендованное'],\n",
    "    ['Наличие автомобиля', 'Нет'],\n",
    "    ['Рабочий стаж', '3-10 лет'],\n",
    "    ['Стаж на текущем месте работы', '3-6 лет'],\n",
    "    ['Кол-во времени проживания на текущем месте', '11'],\n",
    "    ['Профессия', 'Разнообразный род деятельности']\n",
    "]\n",
    "\n",
    "head = ['Фактор', 'Описание']\n",
    "print(tabulate(mydata, headers=head, tablefmt='grid'))"
   ]
  },
  {
   "cell_type": "markdown",
   "id": "45498228",
   "metadata": {},
   "source": [
    "### В таблице представлено описание портрета неплательщика. На таких клиентов компании необходимо обращать внимание, прежде чем выдать кредит"
   ]
  },
  {
   "cell_type": "code",
   "execution_count": null,
   "id": "9f64e2d3",
   "metadata": {},
   "outputs": [],
   "source": []
  }
 ],
 "metadata": {
  "kernelspec": {
   "display_name": "Python 3 (ipykernel)",
   "language": "python",
   "name": "python3"
  },
  "language_info": {
   "codemirror_mode": {
    "name": "ipython",
    "version": 3
   },
   "file_extension": ".py",
   "mimetype": "text/x-python",
   "name": "python",
   "nbconvert_exporter": "python",
   "pygments_lexer": "ipython3",
   "version": "3.9.12"
  }
 },
 "nbformat": 4,
 "nbformat_minor": 5
}
